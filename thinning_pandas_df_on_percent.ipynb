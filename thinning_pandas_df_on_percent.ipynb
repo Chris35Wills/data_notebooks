{
 "cells": [
  {
   "cell_type": "markdown",
   "metadata": {},
   "source": [
    "# Plot variable of a dataframe for values making up more than a specified percentage of the total"
   ]
  },
  {
   "cell_type": "markdown",
   "metadata": {},
   "source": [
    "When compiling large datasets, you may end up with values in some columns that make up only a small contributio to the total. ***These values may be important and should not jsut be discarded without careful consideration.*** Equally, if they van be discarded, the below helper function can assist - given a dataframe, a specified column (of categorical data) and a threshold cutoff, any values within the column that make up less than the thrshold contrivbution to the total will result in that row of the dataframe being dropped.\n",
    "\n",
    "The following function does all the work - scroll down further for an example application."
   ]
  },
  {
   "cell_type": "code",
   "execution_count": 1,
   "metadata": {},
   "outputs": [],
   "source": [
    "def thin_data(data, variable_to_consider, percentage_cutoff=10, verbose=True):\n",
    "\t\"\"\"\n",
    "\tTakes in a dataframe and removes rows where the contribution of categorical variables in a specified column make up \n",
    "\tless than a defined percentage of the total \n",
    "\n",
    "\tdata=pandas dataframe\n",
    "\tvariable_to_consider=name of column\n",
    "\tpercentage_cutoff=where entries in the variable_to_consider column make up less than this percetnage, they will be dropped\n",
    "\n",
    "\tRETURNS dataframe \n",
    "\t\"\"\"\n",
    "\n",
    "\tif verbose:\n",
    "\t\tprint(\"*****\")\n",
    "\t\tprint(\"Trimming dataframe\")\n",
    "\t\tprint(\"Column: %s \" %variable_to_consider)\n",
    "\t\tprint(\"Dropping rows where %s variables make up less than %i %% of the total column composition.\" %(variable_to_consider,percentage_cutoff))\n",
    "\t\tprint(\" \")\n",
    "\t\tprint(\"%s : %% of total\" %variable_to_consider)\n",
    "\t\tprint(\"----------------\")\n",
    "\t\tprint((data[variable_to_consider].value_counts()/data[variable_to_consider].count())*100)\n",
    "\t\n",
    "\tclass_percents=(data[variable_to_consider].value_counts()/data[variable_to_consider].count())*100\n",
    "\tclass_percents_lessThan_CUTOFF=class_percents[class_percents<percentage_cutoff]\n",
    "\tclass_percents_greaterThan_CUTOFF=class_percents.drop(class_percents_lessThan_CUTOFF.index)\n",
    "\n",
    "\t# drop rows where CLASS is > specifid percentage \n",
    "\t#help: https://stackoverflow.com/questions/12065885/filter-dataframe-rows-if-value-in-column-is-in-a-set-list-of-values\n",
    "\t\n",
    "\tmask_gtCUTOFF=data[variable_to_consider].isin(list(class_percents_greaterThan_CUTOFF.index))\n",
    "\tdata_trimmed=data[mask_gtCUTOFF]\n",
    "\n",
    "\treturn(data_trimmed)"
   ]
  },
  {
   "cell_type": "markdown",
   "metadata": {},
   "source": [
    "# Example"
   ]
  },
  {
   "cell_type": "markdown",
   "metadata": {},
   "source": [
    "Start by creating a selection of random classification values - we'll just use letters for now (but you could use anything):"
   ]
  },
  {
   "cell_type": "code",
   "execution_count": 2,
   "metadata": {},
   "outputs": [
    {
     "name": "stdout",
     "output_type": "stream",
     "text": [
      "Shape of class_values:  (4000,)\n",
      "Head of class_values:  ['R' 'Y' 'Z' 'Q' 'F' 'S' 'A' 'M' 'R' 'K']\n"
     ]
    },
    {
     "data": {
      "text/plain": [
       "numpy.ndarray"
      ]
     },
     "execution_count": 2,
     "metadata": {},
     "output_type": "execute_result"
    }
   ],
   "source": [
    "import numpy as np\n",
    "import string\n",
    "class_values=np.random.choice(list(string.ascii_uppercase),  size=(4000))\n",
    "print(\"Shape of class_values: \", class_values.shape)\n",
    "print(\"Head of class_values: \", class_values[0:10])\n",
    "type(class_values)"
   ]
  },
  {
   "cell_type": "markdown",
   "metadata": {},
   "source": [
    "Now create a second list of `groups` which we'll number 1 to 5. IN this example, we'll assume that some of the letters in `class_values` belong to 1 of each of these `groups`. This must be the same shape as `class_values`."
   ]
  },
  {
   "cell_type": "code",
   "execution_count": 3,
   "metadata": {},
   "outputs": [
    {
     "name": "stdout",
     "output_type": "stream",
     "text": [
      "Shape of groups:  (4000,)\n",
      "Head of groups:  [2 1 3 2 4 1 4 3 2 3]\n"
     ]
    },
    {
     "data": {
      "text/plain": [
       "numpy.ndarray"
      ]
     },
     "execution_count": 3,
     "metadata": {},
     "output_type": "execute_result"
    }
   ],
   "source": [
    "groups=np.random.randint(5, size=(4000))\n",
    "print(\"Shape of groups: \", groups.shape)\n",
    "print(\"Head of groups: \", groups[0:10])\n",
    "type(groups)"
   ]
  },
  {
   "cell_type": "markdown",
   "metadata": {},
   "source": [
    "Now define a dataframe using these data:"
   ]
  },
  {
   "cell_type": "code",
   "execution_count": 4,
   "metadata": {},
   "outputs": [
    {
     "name": "stdout",
     "output_type": "stream",
     "text": [
      "  CLASS  GROUP\n",
      "0     R      2\n",
      "1     Y      1\n",
      "2     Z      3\n",
      "3     Q      2\n",
      "4     F      4\n"
     ]
    }
   ],
   "source": [
    "import pandas as pd\n",
    "data=pd.DataFrame({'CLASS':class_values, 'GROUP':groups})\n",
    "print(data.head())"
   ]
  },
  {
   "cell_type": "markdown",
   "metadata": {},
   "source": [
    "You can check how many of each `CLASS` you have in each `GROUP`:"
   ]
  },
  {
   "cell_type": "code",
   "execution_count": 5,
   "metadata": {},
   "outputs": [
    {
     "data": {
      "text/plain": [
       "GROUP  CLASS\n",
       "0      A        23\n",
       "       B        24\n",
       "       C        31\n",
       "       D        34\n",
       "       E        26\n",
       "       F        32\n",
       "       G        23\n",
       "       H        34\n",
       "       I        28\n",
       "       J        24\n",
       "       K        32\n",
       "       L        35\n",
       "       M        27\n",
       "       N        35\n",
       "       O        42\n",
       "       P        24\n",
       "       Q        17\n",
       "       R        30\n",
       "       S        31\n",
       "       T        35\n",
       "       U        39\n",
       "       V        37\n",
       "       W        45\n",
       "       X        33\n",
       "       Y        25\n",
       "       Z        27\n",
       "1      A        30\n",
       "       B        38\n",
       "       C        32\n",
       "       D        23\n",
       "                ..\n",
       "3      W        32\n",
       "       X        28\n",
       "       Y        28\n",
       "       Z        30\n",
       "4      A        33\n",
       "       B        32\n",
       "       C        23\n",
       "       D        33\n",
       "       E        29\n",
       "       F        23\n",
       "       G        26\n",
       "       H        29\n",
       "       I        30\n",
       "       J        35\n",
       "       K        24\n",
       "       L        29\n",
       "       M        27\n",
       "       N        31\n",
       "       O        30\n",
       "       P        33\n",
       "       Q        30\n",
       "       R        35\n",
       "       S        33\n",
       "       T        32\n",
       "       U        34\n",
       "       V        33\n",
       "       W        34\n",
       "       X        32\n",
       "       Y        37\n",
       "       Z        25\n",
       "Length: 130, dtype: int64"
      ]
     },
     "execution_count": 5,
     "metadata": {},
     "output_type": "execute_result"
    }
   ],
   "source": [
    "data.groupby([\"GROUP\", \"CLASS\"]).size()"
   ]
  },
  {
   "cell_type": "markdown",
   "metadata": {},
   "source": [
    "Just for this example, let's adjust how many of some of the values we've been given so that a few of the letters only appear very occasionally compared to others. We'll reduce 90% of the A - G values we have and replace them with T - Z values.\n",
    "\n",
    "**If you're using real data, you won't need to do this step**"
   ]
  },
  {
   "cell_type": "code",
   "execution_count": 6,
   "metadata": {},
   "outputs": [
    {
     "name": "stdout",
     "output_type": "stream",
     "text": [
      "Before replacement:\n",
      "U    187\n",
      "W    178\n",
      "L    167\n",
      "O    167\n",
      "R    166\n",
      "D    166\n",
      "Y    165\n",
      "E    162\n",
      "I    161\n",
      "V    160\n",
      "X    155\n",
      "M    154\n",
      "N    152\n",
      "F    150\n",
      "A    149\n",
      "S    148\n",
      "J    145\n",
      "H    145\n",
      "B    144\n",
      "T    143\n",
      "G    141\n",
      "K    141\n",
      "P    141\n",
      "C    139\n",
      "Z    138\n",
      "Q    136\n",
      "Name: CLASS, dtype: int64\n",
      "After replacement:\n"
     ]
    },
    {
     "data": {
      "text/plain": [
       "W    327\n",
       "U    322\n",
       "V    306\n",
       "Y    295\n",
       "X    280\n",
       "Z    272\n",
       "T    270\n",
       "L    167\n",
       "O    167\n",
       "R    166\n",
       "I    161\n",
       "M    154\n",
       "N    152\n",
       "S    148\n",
       "J    145\n",
       "H    145\n",
       "K    141\n",
       "P    141\n",
       "Q    136\n",
       "D     17\n",
       "E     16\n",
       "F     15\n",
       "A     15\n",
       "B     14\n",
       "G     14\n",
       "C     14\n",
       "Name: CLASS, dtype: int64"
      ]
     },
     "execution_count": 6,
     "metadata": {},
     "output_type": "execute_result"
    }
   ],
   "source": [
    "def replace_percentage_of_values_with_value(data, column, value_to_adjust, replacement_value, portion=.1):\n",
    "    \n",
    "    \"\"\"Replace a fraction of specific string values in a column with another value\n",
    "    \n",
    "    data=pandas dataframe\n",
    "    column=column title\n",
    "    value_to_adjust=value in column you want to alter\n",
    "    replacement_value=value used to replace\n",
    "    portion=fraction of value_to_adjust to be adjusted to replacement_value (.1=10% etc.)\n",
    "    \"\"\"\n",
    "    data.loc[data[data[column].str.match(value_to_adjust)].sample(frac=portion).index,\n",
    "             column]=replacement_value\n",
    "    \n",
    "    return(data)\n",
    "\n",
    "print(\"Before replacement:\")\n",
    "print(data['CLASS'].value_counts())\n",
    "data=replace_percentage_of_values_with_value(data, column='CLASS', value_to_adjust='A', replacement_value='Z', portion=.9)\n",
    "data=replace_percentage_of_values_with_value(data, column='CLASS', value_to_adjust='B', replacement_value='Y', portion=.9)\n",
    "data=replace_percentage_of_values_with_value(data, column='CLASS', value_to_adjust='C', replacement_value='X', portion=.9)\n",
    "data=replace_percentage_of_values_with_value(data, column='CLASS', value_to_adjust='D', replacement_value='W', portion=.9)\n",
    "data=replace_percentage_of_values_with_value(data, column='CLASS', value_to_adjust='E', replacement_value='V', portion=.9)\n",
    "data=replace_percentage_of_values_with_value(data, column='CLASS', value_to_adjust='F', replacement_value='U', portion=.9)\n",
    "data=replace_percentage_of_values_with_value(data, column='CLASS', value_to_adjust='G', replacement_value='T', portion=.9)\n",
    "print(\"After replacement:\")\n",
    "data['CLASS'].value_counts()"
   ]
  },
  {
   "cell_type": "markdown",
   "metadata": {},
   "source": [
    "Let's say you want to plot these - we'll have a go using the [seaborne library](https://seaborn.pydata.org/) using the following function:"
   ]
  },
  {
   "cell_type": "code",
   "execution_count": 7,
   "metadata": {},
   "outputs": [],
   "source": [
    "import seaborn as sns\n",
    "\n",
    "def plot_counts_per_group(data, group_variable, class_variable, title_fontsize=12, axis_fontsize=12, title=''):\n",
    "    sns.set_context(\"paper\", rc={\"font.size\":axis_fontsize,\"axes.titlesize\":axis_fontsize,\"axes.labelsize\":axis_fontsize}) \n",
    "    ax=sns.catplot(y=class_variable, kind='count', hue=group_variable, data=data)\n",
    "    ax.set_axis_labels(\"count\", group_variable)\n",
    "    ax.set_titles(title)\n",
    "    return(ax)"
   ]
  },
  {
   "cell_type": "code",
   "execution_count": 8,
   "metadata": {},
   "outputs": [
    {
     "data": {
      "text/plain": [
       "<seaborn.axisgrid.FacetGrid at 0x1ced4607d30>"
      ]
     },
     "execution_count": 8,
     "metadata": {},
     "output_type": "execute_result"
    },
    {
     "data": {
      "image/png": "[encoded data removed]",
      "text/plain": [
       "<Figure size 403.54x360 with 1 Axes>"
      ]
     },
     "metadata": {},
     "output_type": "display_data"
    }
   ],
   "source": [
    "plot_counts_per_group(data, 'GROUP', 'CLASS', title=\"Letter count per group\")"
   ]
  },
  {
   "cell_type": "markdown",
   "metadata": {},
   "source": [
    "You can see here how the plot has minimal A-G values relative to the others. We'll replot the above now using the function defined at the start to ignore values under a given percentage.\n",
    "\n",
    "***Please remember that this is presented purely as an example. As stated earlier, you should only ignore specific values if you know they are not required - otherwise you're adjusting the information which is 1. wrong and 2. dangerous!***\n",
    "\n",
    "So now let's thin out the dataframe based on the `CLASS` column and removing any rows containg values which make up less than 1 % of the total."
   ]
  },
  {
   "cell_type": "code",
   "execution_count": 9,
   "metadata": {},
   "outputs": [
    {
     "name": "stdout",
     "output_type": "stream",
     "text": [
      "*****\n",
      "Trimming dataframe\n",
      "Column: CLASS \n",
      "Dropping rows where CLASS variables make up less than 1 % of the total column composition.\n",
      " \n",
      "CLASS : % of total\n",
      "----------------\n",
      "W    8.175\n",
      "U    8.050\n",
      "V    7.650\n",
      "Y    7.375\n",
      "X    7.000\n",
      "Z    6.800\n",
      "T    6.750\n",
      "L    4.175\n",
      "O    4.175\n",
      "R    4.150\n",
      "I    4.025\n",
      "M    3.850\n",
      "N    3.800\n",
      "S    3.700\n",
      "J    3.625\n",
      "H    3.625\n",
      "K    3.525\n",
      "P    3.525\n",
      "Q    3.400\n",
      "D    0.425\n",
      "E    0.400\n",
      "F    0.375\n",
      "A    0.375\n",
      "B    0.350\n",
      "G    0.350\n",
      "C    0.350\n",
      "Name: CLASS, dtype: float64\n",
      "  CLASS  GROUP\n",
      "0     R      2\n",
      "1     Y      1\n",
      "2     Z      3\n",
      "3     Q      2\n",
      "4     U      4\n",
      "  CLASS  GROUP\n",
      "0     R      2\n",
      "1     Y      1\n",
      "2     Z      3\n",
      "3     Q      2\n",
      "4     U      4\n"
     ]
    }
   ],
   "source": [
    "data_thinned=thin_data(data, variable_to_consider='CLASS', percentage_cutoff=1)\n",
    "\n",
    "\n",
    "print(data.head())\n",
    "print(data_thinned.head())"
   ]
  },
  {
   "cell_type": "markdown",
   "metadata": {},
   "source": [
    "Now re-plot using the `data_thinned` variable:"
   ]
  },
  {
   "cell_type": "code",
   "execution_count": 10,
   "metadata": {},
   "outputs": [
    {
     "data": {
      "text/plain": [
       "<seaborn.axisgrid.FacetGrid at 0x1ced4b5a4a8>"
      ]
     },
     "execution_count": 10,
     "metadata": {},
     "output_type": "execute_result"
    },
    {
     "data": {
      "image/png": "[encoded data removed]",
      "text/plain": [
       "<Figure size 403.54x360 with 1 Axes>"
      ]
     },
     "metadata": {},
     "output_type": "display_data"
    }
   ],
   "source": [
    "plot_counts_per_group(data_thinned, 'GROUP', 'CLASS', title=\"CLASS count per group\")"
   ]
  },
  {
   "cell_type": "markdown",
   "metadata": {},
   "source": [
    "We've now removed data that were for this example deemed not to be of interest, resulting in the need to plot less data and therefore providing a chart more suitable for the intended use - in this case, that use being to consider the distribution of `CLASS` values per `GROUP` where letters represented >10 % of the total `CLASS` population."
   ]
  },
  {
   "cell_type": "code",
   "execution_count": null,
   "metadata": {},
   "outputs": [],
   "source": []
  }
 ],
 "metadata": {
  "kernelspec": {
   "display_name": "Python 3",
   "language": "python",
   "name": "python3"
  },
  "language_info": {
   "codemirror_mode": {
    "name": "ipython",
    "version": 3
   },
   "file_extension": ".py",
   "mimetype": "text/x-python",
   "name": "python",
   "nbconvert_exporter": "python",
   "pygments_lexer": "ipython3",
   "version": "3.6.3"
  }
 },
 "nbformat": 4,
 "nbformat_minor": 2
}
