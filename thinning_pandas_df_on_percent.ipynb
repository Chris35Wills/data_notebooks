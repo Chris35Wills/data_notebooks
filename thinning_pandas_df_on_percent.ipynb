{
 "cells": [
  {
   "cell_type": "markdown",
   "metadata": {},
   "source": [
    "# Plot variable of a dataframe for values making up more than a specified percentage of the total"
   ]
  },
  {
   "cell_type": "markdown",
   "metadata": {},
   "source": [
    "When compiling large datasets, you may end up with values in some columns that make up only a small contributio to the total. ***These values may be important and should not jsut be discarded without careful consideration.*** Equally, if they van be discarded, the below helper function can assist - given a dataframe, a specified column (of categorical data) and a threshold cutoff, any values within the column that make up less than the thrshold contrivbution to the total will result in that row of the dataframe being dropped.\n",
    "\n",
    "The following function does all the work - scroll down further for an example application."
   ]
  },
  {
   "cell_type": "code",
   "execution_count": 135,
   "metadata": {},
   "outputs": [],
   "source": [
    "def thin_data(data, variable_to_consider, percentage_cutoff=10, verbose=True):\n",
    "\t\"\"\"\n",
    "\tTakes in a dataframe and removes rows where the contribution of categorical variables in a specified column make up \n",
    "\tless than a defined percentage of the total \n",
    "\n",
    "\tdata=pandas dataframe\n",
    "\tvariable_to_consider=name of column\n",
    "\tpercentage_cutoff=where entries in the variable_to_consider column make up less than this percetnage, they will be dropped\n",
    "\n",
    "\tRETURNS dataframe \n",
    "\t\"\"\"\n",
    "\n",
    "\tif verbose:\n",
    "\t\tprint(\"*****\")\n",
    "\t\tprint(\"Trimming dataframe\")\n",
    "\t\tprint(\"Column: %s \" %variable_to_consider)\n",
    "\t\tprint(\"Dropping rows where %s variables make up less than %i %% of the total column composition.\" %(variable_to_consider,percentage_cutoff))\n",
    "\t\tprint(\" \")\n",
    "\t\tprint(\"%s : %% of total\" %variable_to_consider)\n",
    "\t\tprint(\"----------------\")\n",
    "\t\tprint((data[variable_to_consider].value_counts()/data[variable_to_consider].count())*100)\n",
    "\t\n",
    "\tclass_percents=(data[variable_to_consider].value_counts()/data[variable_to_consider].count())*100\n",
    "\tclass_percents_lessThan_CUTOFF=class_percents[class_percents<percentage_cutoff]\n",
    "\tclass_percents_greaterThan_CUTOFF=class_percents.drop(class_percents_lessThan_CUTOFF.index)\n",
    "\n",
    "\t# drop rows where CLASS is > specifid percentage \n",
    "\t#help: https://stackoverflow.com/questions/12065885/filter-dataframe-rows-if-value-in-column-is-in-a-set-list-of-values\n",
    "\t\n",
    "\tmask_gtCUTOFF=data[variable_to_consider].isin(list(class_percents_greaterThan_CUTOFF.index))\n",
    "\tdata_trimmed=data[mask_gtCUTOFF]\n",
    "\n",
    "\treturn(data_trimmed)"
   ]
  },
  {
   "cell_type": "markdown",
   "metadata": {},
   "source": [
    "# Example"
   ]
  },
  {
   "cell_type": "markdown",
   "metadata": {},
   "source": [
    "Start by creating a selection of random classification values - we'll just use letters for now (but you could use anything):"
   ]
  },
  {
   "cell_type": "code",
   "execution_count": 136,
   "metadata": {},
   "outputs": [
    {
     "name": "stdout",
     "output_type": "stream",
     "text": [
      "Shape of class_values:  (4000,)\n",
      "Head of class_values:  ['O' 'C' 'Q' 'O' 'I' 'S' 'M' 'B' 'A' 'L']\n"
     ]
    },
    {
     "data": {
      "text/plain": [
       "numpy.ndarray"
      ]
     },
     "execution_count": 136,
     "metadata": {},
     "output_type": "execute_result"
    }
   ],
   "source": [
    "import numpy as np\n",
    "import string\n",
    "class_values=np.random.choice(list(string.ascii_uppercase),  size=(4000))\n",
    "print(\"Shape of class_values: \", class_values.shape)\n",
    "print(\"Head of class_values: \", class_values[0:10])\n",
    "type(class_values)"
   ]
  },
  {
   "cell_type": "markdown",
   "metadata": {},
   "source": [
    "Now create a second list of `groups` which we'll number 1 to 5. IN this example, we'll assume that some of the letters in `class_values` belong to 1 of each of these `groups`. This must be the same shape as `class_values`."
   ]
  },
  {
   "cell_type": "code",
   "execution_count": 137,
   "metadata": {},
   "outputs": [
    {
     "name": "stdout",
     "output_type": "stream",
     "text": [
      "Shape of groups:  (4000,)\n",
      "Head of groups:  [1 4 2 3 0 1 2 3 4 2]\n"
     ]
    },
    {
     "data": {
      "text/plain": [
       "numpy.ndarray"
      ]
     },
     "execution_count": 137,
     "metadata": {},
     "output_type": "execute_result"
    }
   ],
   "source": [
    "groups=np.random.randint(5, size=(4000))\n",
    "print(\"Shape of groups: \", groups.shape)\n",
    "print(\"Head of groups: \", groups[0:10])\n",
    "type(groups)"
   ]
  },
  {
   "cell_type": "markdown",
   "metadata": {},
   "source": [
    "Now define a dataframe using these data:"
   ]
  },
  {
   "cell_type": "code",
   "execution_count": 138,
   "metadata": {},
   "outputs": [
    {
     "name": "stdout",
     "output_type": "stream",
     "text": [
      "  CLASS  GROUP\n",
      "0     O      1\n",
      "1     C      4\n",
      "2     Q      2\n",
      "3     O      3\n",
      "4     I      0\n"
     ]
    }
   ],
   "source": [
    "import pandas as pd\n",
    "data=pd.DataFrame({'CLASS':class_values, 'GROUP':groups})\n",
    "print(data.head())"
   ]
  },
  {
   "cell_type": "markdown",
   "metadata": {},
   "source": [
    "You can check how many of each `CLASS` you have in each `GROUP`:"
   ]
  },
  {
   "cell_type": "code",
   "execution_count": 139,
   "metadata": {},
   "outputs": [
    {
     "data": {
      "text/plain": [
       "GROUP  CLASS\n",
       "0      A        30\n",
       "       B        37\n",
       "       C        28\n",
       "       D        27\n",
       "       E        32\n",
       "       F        27\n",
       "       G        35\n",
       "       H        29\n",
       "       I        20\n",
       "       J        33\n",
       "       K        18\n",
       "       L        30\n",
       "       M        34\n",
       "       N        41\n",
       "       O        43\n",
       "       P        28\n",
       "       Q        24\n",
       "       R        35\n",
       "       S        35\n",
       "       T        26\n",
       "       U        34\n",
       "       V        35\n",
       "       W        25\n",
       "       X        42\n",
       "       Y        35\n",
       "       Z        28\n",
       "1      A        34\n",
       "       B        29\n",
       "       C        28\n",
       "       D        35\n",
       "                ..\n",
       "3      W        33\n",
       "       X        29\n",
       "       Y        15\n",
       "       Z        23\n",
       "4      A        33\n",
       "       B        25\n",
       "       C        21\n",
       "       D        22\n",
       "       E        40\n",
       "       F        29\n",
       "       G        40\n",
       "       H        39\n",
       "       I        34\n",
       "       J        31\n",
       "       K        27\n",
       "       L        33\n",
       "       M        32\n",
       "       N        30\n",
       "       O        31\n",
       "       P        33\n",
       "       Q        35\n",
       "       R        32\n",
       "       S        28\n",
       "       T        27\n",
       "       U        30\n",
       "       V        31\n",
       "       W        27\n",
       "       X        26\n",
       "       Y        32\n",
       "       Z        30\n",
       "Length: 130, dtype: int64"
      ]
     },
     "execution_count": 139,
     "metadata": {},
     "output_type": "execute_result"
    }
   ],
   "source": [
    "data.groupby([\"GROUP\", \"CLASS\"]).size()"
   ]
  },
  {
   "cell_type": "markdown",
   "metadata": {},
   "source": [
    "Just for this example, let's adjust how many of some of the values we've been given so that a few of the letters only appear very occasionally compared to others. We'll reduce 90% of the A - G values we have and replace them with T - Z values.\n",
    "\n",
    "**If you're using real data, you won't need to do this step**"
   ]
  },
  {
   "cell_type": "code",
   "execution_count": 140,
   "metadata": {},
   "outputs": [
    {
     "name": "stdout",
     "output_type": "stream",
     "text": [
      "Before replacement:\n",
      "G    172\n",
      "O    169\n",
      "P    168\n",
      "M    165\n",
      "N    165\n",
      "E    161\n",
      "V    160\n",
      "A    160\n",
      "S    159\n",
      "H    158\n",
      "U    157\n",
      "Q    157\n",
      "I    157\n",
      "J    154\n",
      "X    153\n",
      "R    151\n",
      "T    149\n",
      "Z    147\n",
      "K    146\n",
      "L    145\n",
      "W    145\n",
      "B    144\n",
      "C    143\n",
      "D    139\n",
      "F    139\n",
      "Y    137\n",
      "Name: CLASS, dtype: int64\n",
      "After replacement:\n"
     ]
    },
    {
     "data": {
      "text/plain": [
       "V    305\n",
       "T    304\n",
       "Z    291\n",
       "X    282\n",
       "U    282\n",
       "W    270\n",
       "Y    267\n",
       "O    169\n",
       "P    168\n",
       "M    165\n",
       "N    165\n",
       "S    159\n",
       "H    158\n",
       "Q    157\n",
       "I    157\n",
       "J    154\n",
       "R    151\n",
       "K    146\n",
       "L    145\n",
       "G     17\n",
       "A     16\n",
       "E     16\n",
       "D     14\n",
       "C     14\n",
       "F     14\n",
       "B     14\n",
       "Name: CLASS, dtype: int64"
      ]
     },
     "execution_count": 140,
     "metadata": {},
     "output_type": "execute_result"
    }
   ],
   "source": [
    "def replace_percentage_of_values_with_value(data, column, value_to_adjust, replacement_value, portion=.1):\n",
    "    \n",
    "    \"\"\"Replace a fraction of specific string values in a column with another value\n",
    "    \n",
    "    data=pandas dataframe\n",
    "    column=column title\n",
    "    value_to_adjust=value in column you want to alter\n",
    "    replacement_value=value used to replace\n",
    "    portion=fraction of value_to_adjust to be adjusted to replacement_value (.1=10% etc.)\n",
    "    \"\"\"\n",
    "    data.loc[data[data[column].str.match(value_to_adjust)].sample(frac=portion).index,\n",
    "             column]=replacement_value\n",
    "    \n",
    "    return(data)\n",
    "\n",
    "print(\"Before replacement:\")\n",
    "print(data['CLASS'].value_counts())\n",
    "data=replace_percentage_of_values_with_value(data, column='CLASS', value_to_adjust='A', replacement_value='Z', portion=.9)\n",
    "data=replace_percentage_of_values_with_value(data, column='CLASS', value_to_adjust='B', replacement_value='Y', portion=.9)\n",
    "data=replace_percentage_of_values_with_value(data, column='CLASS', value_to_adjust='C', replacement_value='X', portion=.9)\n",
    "data=replace_percentage_of_values_with_value(data, column='CLASS', value_to_adjust='D', replacement_value='W', portion=.9)\n",
    "data=replace_percentage_of_values_with_value(data, column='CLASS', value_to_adjust='E', replacement_value='V', portion=.9)\n",
    "data=replace_percentage_of_values_with_value(data, column='CLASS', value_to_adjust='F', replacement_value='U', portion=.9)\n",
    "data=replace_percentage_of_values_with_value(data, column='CLASS', value_to_adjust='G', replacement_value='T', portion=.9)\n",
    "print(\"After replacement:\")\n",
    "data['CLASS'].value_counts()"
   ]
  },
  {
   "cell_type": "markdown",
   "metadata": {},
   "source": [
    "Let's say you want to plot these - we'll have a go using the [seaborne library](https://seaborn.pydata.org/) using the following function:"
   ]
  },
  {
   "cell_type": "code",
   "execution_count": 141,
   "metadata": {},
   "outputs": [],
   "source": [
    "import seaborn as sns\n",
    "\n",
    "def plot_counts_per_group(data, group_variable, class_variable, title_fontsize=12, axis_fontsize=12, title=''):\n",
    "    sns.set_context(\"paper\", rc={\"font.size\":axis_fontsize,\"axes.titlesize\":axis_fontsize,\"axes.labelsize\":axis_fontsize}) \n",
    "    ax=sns.catplot(y=class_variable, kind='count', hue=group_variable, data=data)\n",
    "    ax.set_axis_labels(\"count\", group_variable)\n",
    "    ax.set_titles(title)\n",
    "    return(ax)"
   ]
  },
  {
   "cell_type": "code",
   "execution_count": 142,
   "metadata": {},
   "outputs": [
    {
     "data": {
      "text/plain": [
       "<seaborn.axisgrid.FacetGrid at 0x264cb5fbda0>"
      ]
     },
     "execution_count": 142,
     "metadata": {},
     "output_type": "execute_result"
    },
    {
     "data": {
      "image/png": "[encoded data removed]",
      "text/plain": [
       "<Figure size 403.54x360 with 1 Axes>"
      ]
     },
     "metadata": {},
     "output_type": "display_data"
    }
   ],
   "source": [
    "plot_counts_per_group(data, 'GROUP', 'CLASS', title=\"Letter count per group\")"
   ]
  },
  {
   "cell_type": "markdown",
   "metadata": {},
   "source": [
    "You can see here how the plot has minimal A-G values relative to the others. We'll replot the above now using the function defined at the start to ignore values under a given percentage.\n",
    "\n",
    "***Please remember that this is presented purely as an example. As stated earlier, you should only ignore specific values if you know they are not required - otherwise you're adjusting the information which is 1. wrong and 2. dangerous!***\n",
    "\n",
    "So now let's thin out the dataframe based on the `CLASS` column and removing any rows containg values which make up less than 1 % of the total."
   ]
  },
  {
   "cell_type": "code",
   "execution_count": 147,
   "metadata": {},
   "outputs": [
    {
     "name": "stdout",
     "output_type": "stream",
     "text": [
      "*****\n",
      "Trimming dataframe\n",
      "Column: CLASS \n",
      "Dropping rows where CLASS variables make up less than 1 % of the total column composition.\n",
      " \n",
      "CLASS : % of total\n",
      "----------------\n",
      "V    7.625\n",
      "T    7.600\n",
      "Z    7.275\n",
      "X    7.050\n",
      "U    7.050\n",
      "W    6.750\n",
      "Y    6.675\n",
      "O    4.225\n",
      "P    4.200\n",
      "M    4.125\n",
      "N    4.125\n",
      "S    3.975\n",
      "H    3.950\n",
      "Q    3.925\n",
      "I    3.925\n",
      "J    3.850\n",
      "R    3.775\n",
      "K    3.650\n",
      "L    3.625\n",
      "G    0.425\n",
      "A    0.400\n",
      "E    0.400\n",
      "D    0.350\n",
      "C    0.350\n",
      "F    0.350\n",
      "B    0.350\n",
      "Name: CLASS, dtype: float64\n",
      "  CLASS  GROUP\n",
      "0     O      1\n",
      "1     X      4\n",
      "2     Q      2\n",
      "3     O      3\n",
      "4     I      0\n",
      "  CLASS  GROUP\n",
      "0     O      1\n",
      "1     X      4\n",
      "2     Q      2\n",
      "3     O      3\n",
      "4     I      0\n"
     ]
    }
   ],
   "source": [
    "data_thinned=thin_data(data, variable_to_consider='CLASS', percentage_cutoff=1)\n",
    "\n",
    "\n",
    "print(data.head())\n",
    "print(data_thinned.head())"
   ]
  },
  {
   "cell_type": "markdown",
   "metadata": {},
   "source": [
    "Now re-plot using the `data_thinned` variable:"
   ]
  },
  {
   "cell_type": "code",
   "execution_count": 150,
   "metadata": {},
   "outputs": [
    {
     "data": {
      "text/plain": [
       "<seaborn.axisgrid.FacetGrid at 0x264cbd17668>"
      ]
     },
     "execution_count": 150,
     "metadata": {},
     "output_type": "execute_result"
    },
    {
     "data": {
      "image/png": "[encoded data removed]",
      "text/plain": [
       "<Figure size 403.54x360 with 1 Axes>"
      ]
     },
     "metadata": {},
     "output_type": "display_data"
    }
   ],
   "source": [
    "plot_counts_per_group(data_thinned, 'GROUP', 'CLASS', title=\"CLASS count per group\")"
   ]
  },
  {
   "cell_type": "markdown",
   "metadata": {},
   "source": [
    "We've now removed data that were for this example deemed not to be of interest, resulting in the need to plot less data and therefore providing a chart more suitable for the intended use - in this case, that use being to consider the distribution of `CLASS` values per `GROUP` where letters represented >10 % of the total `CLASS` population."
   ]
  },
  {
   "cell_type": "code",
   "execution_count": null,
   "metadata": {},
   "outputs": [],
   "source": []
  }
 ],
 "metadata": {
  "kernelspec": {
   "display_name": "Python 3",
   "language": "python",
   "name": "python3"
  },
  "language_info": {
   "codemirror_mode": {
    "name": "ipython",
    "version": 3
   },
   "file_extension": ".py",
   "mimetype": "text/x-python",
   "name": "python",
   "nbconvert_exporter": "python",
   "pygments_lexer": "ipython3",
   "version": "3.6.3"
  }
 },
 "nbformat": 4,
 "nbformat_minor": 2
}
