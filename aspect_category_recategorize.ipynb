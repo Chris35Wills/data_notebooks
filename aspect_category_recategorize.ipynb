{
 "cells": [
  {
   "cell_type": "markdown",
   "metadata": {},
   "source": [
    "# Aspect values to categories\n",
    "\n",
    "When dealing with terrain aspect values, you might find yourself needing to categorize them into sectors e.g. 10 deg N = North, 24 deg North = North-east, 90 deg North = East etc. This is also something to consider when using such data in a machine learning workflow too as you may find you need to [encode the categories](https://www.dataschool.io/encoding-categorical-features-in-python/) rather than use the raw aspect orientations (rescaling aspect orientations between 0 and 1 doesn;t make sense....)\n",
    "\n",
    "Below is a helper function that does the aspect category mapping for you. You just need to pass it an input array such as a pandas series."
   ]
  },
  {
   "cell_type": "code",
   "execution_count": 6,
   "metadata": {},
   "outputs": [
    {
     "name": "stdout",
     "output_type": "stream",
     "text": [
      "Aspect (deg N) | Aspect quadrant\n",
      "195.72  | S\n",
      "259.13  | W\n",
      "194.84  | S\n",
      "194.84  | S\n",
      "292.85  | NW\n",
      "38.35  | NE\n",
      "24.81  | NE\n",
      "38.35  | NE\n",
      "195.72  | S\n",
      "195.72  | S\n",
      "292.85  | NW\n",
      "66.14  | NE\n",
      "66.14  | NE\n",
      "38.35  | NE\n",
      "194.84  | S\n",
      "195.72  | S\n",
      "292.85  | NW\n",
      "292.85  | NW\n",
      "194.84  | S\n",
      "66.14  | NE\n"
     ]
    }
   ],
   "source": [
    "import pandas as pd\n",
    "import numpy as np\n",
    "\n",
    "def categorize_aspect(aspect_array, check_output=True):\n",
    "    \"\"\"Recategorizes numerical aspect values to quadrants (N/NE/E etc.)\n",
    "    \n",
    "    Takes in an e.g. pandas data frame series (expected to be 1D)\n",
    "    e.g. categorize_aspect(dataframe['your_column'])\n",
    "    \n",
    "    North:     0° – 22.5°\n",
    "    Northeast: 22.5° – 67.5°\n",
    "    East:      67.5° – 112.5°\n",
    "    Southeast: 112.5° – 157.5°\n",
    "    South:     157.5° – 202.5°\n",
    "    Southwest: 202.5° – 247.5°\n",
    "    West:      247.5° – 292.5°\n",
    "    Northwest: 292.5° – 337.5°\n",
    "    North:     337.5° – 360°\n",
    "\n",
    "    Returns: numpy ndarray\n",
    "    \"\"\"\n",
    "    \n",
    "    bins = [0, 22.5, 67.5, 112.5, 157.5, 202.5,\n",
    "            247.5, 292.5, 337.5, 360]\n",
    "    names = ['N', 'NE', 'E', 'SE', 'S', 'SW', 'W', 'NW', 'N2'] \n",
    "            # we'll have 2 N quadrants so use N2 for the second as they have to be unique \n",
    "\n",
    "    aspect_cat = pd.cut(aspect_array, bins, labels=names)\n",
    "    aspect_cat[aspect_cat=='N2']='N' # merge N2 cats with N\n",
    "    \n",
    "    # Check values have mapped correctly - prints to standard output\n",
    "    if check_output:\n",
    "        random_indxs=np.random.randint(low=1, high=aspect_cat.shape[0], size=20) #random values within shape of series\n",
    "        before=aspect_array[random_indxs]\n",
    "        after=aspect_cat[random_indxs]\n",
    "        print(\"Aspect (deg N) | Aspect quadrant\")\n",
    "        for i in range(0,len(before)):\n",
    "            print(\"%0.2f  | %s\" %(before.iloc[i],after.iloc[i])) \n",
    "\n",
    "    return(aspect_cat)\n",
    "\n",
    "# Apply it (here with a pandas series)\n",
    "aspect_series=pd.Series([52.93,38.35,194.84,299.53,24.81,259.13,66.14,292.85,195.72,27.85])\n",
    "aspect_categories=categorize_aspect(aspect_series)"
   ]
  },
  {
   "cell_type": "code",
   "execution_count": null,
   "metadata": {},
   "outputs": [],
   "source": []
  }
 ],
 "metadata": {
  "kernelspec": {
   "display_name": "Python 3",
   "language": "python",
   "name": "python3"
  },
  "language_info": {
   "codemirror_mode": {
    "name": "ipython",
    "version": 3
   },
   "file_extension": ".py",
   "mimetype": "text/x-python",
   "name": "python",
   "nbconvert_exporter": "python",
   "pygments_lexer": "ipython3",
   "version": "3.7.1"
  }
 },
 "nbformat": 4,
 "nbformat_minor": 4
}
